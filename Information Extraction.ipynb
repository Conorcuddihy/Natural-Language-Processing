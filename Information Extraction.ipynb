{
 "cells": [
  {
   "cell_type": "markdown",
   "metadata": {
    "id": "c0jKgZZ79OwP"
   },
   "source": [
    "# Exercise Sheet 8 - Information Extraction - Solution"
   ]
  },
  {
   "cell_type": "markdown",
   "metadata": {
    "id": "hRi-fFM8vYPv"
   },
   "source": [
    "## Learning Objectives \n",
    "\n",
    "In this lab we are going to:\n",
    "\n",
    "* Review preprocessing techniques for Information Extraction.\n",
    "* Learn how to find useful information from the text.\n",
    "* Play around with a corpus to extract Named-Entities.\n",
    "\n"
   ]
  },
  {
   "cell_type": "code",
   "execution_count": 2,
   "metadata": {
    "id": "pgBC1FruXlR1"
   },
   "outputs": [
    {
     "name": "stderr",
     "output_type": "stream",
     "text": [
      "[nltk_data] Downloading collection 'all'\n",
      "[nltk_data]    | \n",
      "[nltk_data]    | Downloading package abc to\n",
      "[nltk_data]    |     /Users/conorcuddihy/nltk_data...\n",
      "[nltk_data]    |   Package abc is already up-to-date!\n",
      "[nltk_data]    | Downloading package alpino to\n",
      "[nltk_data]    |     /Users/conorcuddihy/nltk_data...\n",
      "[nltk_data]    |   Package alpino is already up-to-date!\n",
      "[nltk_data]    | Downloading package biocreative_ppi to\n",
      "[nltk_data]    |     /Users/conorcuddihy/nltk_data...\n",
      "[nltk_data]    |   Package biocreative_ppi is already up-to-date!\n",
      "[nltk_data]    | Downloading package brown to\n",
      "[nltk_data]    |     /Users/conorcuddihy/nltk_data...\n",
      "[nltk_data]    |   Package brown is already up-to-date!\n",
      "[nltk_data]    | Downloading package brown_tei to\n",
      "[nltk_data]    |     /Users/conorcuddihy/nltk_data...\n",
      "[nltk_data]    |   Package brown_tei is already up-to-date!\n",
      "[nltk_data]    | Downloading package cess_cat to\n",
      "[nltk_data]    |     /Users/conorcuddihy/nltk_data...\n",
      "[nltk_data]    |   Package cess_cat is already up-to-date!\n",
      "[nltk_data]    | Downloading package cess_esp to\n",
      "[nltk_data]    |     /Users/conorcuddihy/nltk_data...\n",
      "[nltk_data]    |   Package cess_esp is already up-to-date!\n",
      "[nltk_data]    | Downloading package chat80 to\n",
      "[nltk_data]    |     /Users/conorcuddihy/nltk_data...\n",
      "[nltk_data]    |   Package chat80 is already up-to-date!\n",
      "[nltk_data]    | Downloading package city_database to\n",
      "[nltk_data]    |     /Users/conorcuddihy/nltk_data...\n",
      "[nltk_data]    |   Package city_database is already up-to-date!\n",
      "[nltk_data]    | Downloading package cmudict to\n",
      "[nltk_data]    |     /Users/conorcuddihy/nltk_data...\n",
      "[nltk_data]    |   Package cmudict is already up-to-date!\n",
      "[nltk_data]    | Downloading package comparative_sentences to\n",
      "[nltk_data]    |     /Users/conorcuddihy/nltk_data...\n",
      "[nltk_data]    |   Package comparative_sentences is already up-to-\n",
      "[nltk_data]    |       date!\n",
      "[nltk_data]    | Downloading package comtrans to\n",
      "[nltk_data]    |     /Users/conorcuddihy/nltk_data...\n",
      "[nltk_data]    |   Package comtrans is already up-to-date!\n",
      "[nltk_data]    | Downloading package conll2000 to\n",
      "[nltk_data]    |     /Users/conorcuddihy/nltk_data...\n",
      "[nltk_data]    |   Package conll2000 is already up-to-date!\n",
      "[nltk_data]    | Downloading package conll2002 to\n",
      "[nltk_data]    |     /Users/conorcuddihy/nltk_data...\n",
      "[nltk_data]    |   Package conll2002 is already up-to-date!\n",
      "[nltk_data]    | Downloading package conll2007 to\n",
      "[nltk_data]    |     /Users/conorcuddihy/nltk_data...\n",
      "[nltk_data]    |   Package conll2007 is already up-to-date!\n",
      "[nltk_data]    | Downloading package crubadan to\n",
      "[nltk_data]    |     /Users/conorcuddihy/nltk_data...\n",
      "[nltk_data]    |   Package crubadan is already up-to-date!\n",
      "[nltk_data]    | Downloading package dependency_treebank to\n",
      "[nltk_data]    |     /Users/conorcuddihy/nltk_data...\n",
      "[nltk_data]    |   Package dependency_treebank is already up-to-date!\n",
      "[nltk_data]    | Downloading package dolch to\n",
      "[nltk_data]    |     /Users/conorcuddihy/nltk_data...\n",
      "[nltk_data]    |   Package dolch is already up-to-date!\n",
      "[nltk_data]    | Downloading package europarl_raw to\n",
      "[nltk_data]    |     /Users/conorcuddihy/nltk_data...\n",
      "[nltk_data]    |   Package europarl_raw is already up-to-date!\n",
      "[nltk_data]    | Downloading package floresta to\n",
      "[nltk_data]    |     /Users/conorcuddihy/nltk_data...\n",
      "[nltk_data]    |   Package floresta is already up-to-date!\n",
      "[nltk_data]    | Downloading package framenet_v15 to\n",
      "[nltk_data]    |     /Users/conorcuddihy/nltk_data...\n",
      "[nltk_data]    |   Package framenet_v15 is already up-to-date!\n",
      "[nltk_data]    | Downloading package framenet_v17 to\n",
      "[nltk_data]    |     /Users/conorcuddihy/nltk_data...\n",
      "[nltk_data]    |   Package framenet_v17 is already up-to-date!\n",
      "[nltk_data]    | Downloading package gazetteers to\n",
      "[nltk_data]    |     /Users/conorcuddihy/nltk_data...\n",
      "[nltk_data]    |   Package gazetteers is already up-to-date!\n",
      "[nltk_data]    | Downloading package genesis to\n",
      "[nltk_data]    |     /Users/conorcuddihy/nltk_data...\n",
      "[nltk_data]    |   Package genesis is already up-to-date!\n",
      "[nltk_data]    | Downloading package gutenberg to\n",
      "[nltk_data]    |     /Users/conorcuddihy/nltk_data...\n",
      "[nltk_data]    |   Package gutenberg is already up-to-date!\n",
      "[nltk_data]    | Downloading package ieer to\n",
      "[nltk_data]    |     /Users/conorcuddihy/nltk_data...\n",
      "[nltk_data]    |   Package ieer is already up-to-date!\n",
      "[nltk_data]    | Downloading package inaugural to\n",
      "[nltk_data]    |     /Users/conorcuddihy/nltk_data...\n",
      "[nltk_data]    |   Package inaugural is already up-to-date!\n",
      "[nltk_data]    | Downloading package indian to\n",
      "[nltk_data]    |     /Users/conorcuddihy/nltk_data...\n",
      "[nltk_data]    |   Package indian is already up-to-date!\n",
      "[nltk_data]    | Downloading package jeita to\n",
      "[nltk_data]    |     /Users/conorcuddihy/nltk_data...\n",
      "[nltk_data]    |   Package jeita is already up-to-date!\n",
      "[nltk_data]    | Downloading package kimmo to\n",
      "[nltk_data]    |     /Users/conorcuddihy/nltk_data...\n",
      "[nltk_data]    |   Package kimmo is already up-to-date!\n",
      "[nltk_data]    | Downloading package knbc to\n",
      "[nltk_data]    |     /Users/conorcuddihy/nltk_data...\n",
      "[nltk_data]    |   Package knbc is already up-to-date!\n",
      "[nltk_data]    | Downloading package lin_thesaurus to\n",
      "[nltk_data]    |     /Users/conorcuddihy/nltk_data...\n",
      "[nltk_data]    |   Package lin_thesaurus is already up-to-date!\n",
      "[nltk_data]    | Downloading package mac_morpho to\n",
      "[nltk_data]    |     /Users/conorcuddihy/nltk_data...\n",
      "[nltk_data]    |   Package mac_morpho is already up-to-date!\n",
      "[nltk_data]    | Downloading package machado to\n",
      "[nltk_data]    |     /Users/conorcuddihy/nltk_data...\n",
      "[nltk_data]    |   Package machado is already up-to-date!\n",
      "[nltk_data]    | Downloading package masc_tagged to\n",
      "[nltk_data]    |     /Users/conorcuddihy/nltk_data...\n",
      "[nltk_data]    |   Package masc_tagged is already up-to-date!\n",
      "[nltk_data]    | Downloading package moses_sample to\n",
      "[nltk_data]    |     /Users/conorcuddihy/nltk_data...\n",
      "[nltk_data]    |   Package moses_sample is already up-to-date!\n",
      "[nltk_data]    | Downloading package movie_reviews to\n",
      "[nltk_data]    |     /Users/conorcuddihy/nltk_data...\n",
      "[nltk_data]    |   Package movie_reviews is already up-to-date!\n",
      "[nltk_data]    | Downloading package names to\n",
      "[nltk_data]    |     /Users/conorcuddihy/nltk_data...\n",
      "[nltk_data]    |   Package names is already up-to-date!\n",
      "[nltk_data]    | Downloading package nombank.1.0 to\n",
      "[nltk_data]    |     /Users/conorcuddihy/nltk_data...\n",
      "[nltk_data]    |   Package nombank.1.0 is already up-to-date!\n",
      "[nltk_data]    | Downloading package nps_chat to\n",
      "[nltk_data]    |     /Users/conorcuddihy/nltk_data...\n",
      "[nltk_data]    |   Package nps_chat is already up-to-date!\n",
      "[nltk_data]    | Downloading package omw to\n",
      "[nltk_data]    |     /Users/conorcuddihy/nltk_data...\n",
      "[nltk_data]    |   Package omw is already up-to-date!\n",
      "[nltk_data]    | Downloading package opinion_lexicon to\n",
      "[nltk_data]    |     /Users/conorcuddihy/nltk_data...\n",
      "[nltk_data]    |   Package opinion_lexicon is already up-to-date!\n",
      "[nltk_data]    | Downloading package paradigms to\n",
      "[nltk_data]    |     /Users/conorcuddihy/nltk_data...\n",
      "[nltk_data]    |   Package paradigms is already up-to-date!\n",
      "[nltk_data]    | Downloading package pil to\n",
      "[nltk_data]    |     /Users/conorcuddihy/nltk_data...\n",
      "[nltk_data]    |   Package pil is already up-to-date!\n",
      "[nltk_data]    | Downloading package pl196x to\n",
      "[nltk_data]    |     /Users/conorcuddihy/nltk_data...\n",
      "[nltk_data]    |   Package pl196x is already up-to-date!\n",
      "[nltk_data]    | Downloading package ppattach to\n",
      "[nltk_data]    |     /Users/conorcuddihy/nltk_data...\n",
      "[nltk_data]    |   Package ppattach is already up-to-date!\n",
      "[nltk_data]    | Downloading package problem_reports to\n",
      "[nltk_data]    |     /Users/conorcuddihy/nltk_data...\n",
      "[nltk_data]    |   Package problem_reports is already up-to-date!\n",
      "[nltk_data]    | Downloading package propbank to\n",
      "[nltk_data]    |     /Users/conorcuddihy/nltk_data...\n",
      "[nltk_data]    |   Package propbank is already up-to-date!\n",
      "[nltk_data]    | Downloading package ptb to\n",
      "[nltk_data]    |     /Users/conorcuddihy/nltk_data...\n",
      "[nltk_data]    |   Package ptb is already up-to-date!\n",
      "[nltk_data]    | Downloading package product_reviews_1 to\n",
      "[nltk_data]    |     /Users/conorcuddihy/nltk_data...\n",
      "[nltk_data]    |   Package product_reviews_1 is already up-to-date!\n",
      "[nltk_data]    | Downloading package product_reviews_2 to\n",
      "[nltk_data]    |     /Users/conorcuddihy/nltk_data...\n",
      "[nltk_data]    |   Package product_reviews_2 is already up-to-date!\n",
      "[nltk_data]    | Downloading package pros_cons to\n",
      "[nltk_data]    |     /Users/conorcuddihy/nltk_data...\n",
      "[nltk_data]    |   Package pros_cons is already up-to-date!\n",
      "[nltk_data]    | Downloading package qc to\n",
      "[nltk_data]    |     /Users/conorcuddihy/nltk_data...\n",
      "[nltk_data]    |   Package qc is already up-to-date!\n",
      "[nltk_data]    | Downloading package reuters to\n",
      "[nltk_data]    |     /Users/conorcuddihy/nltk_data...\n",
      "[nltk_data]    |   Package reuters is already up-to-date!\n",
      "[nltk_data]    | Downloading package rte to\n",
      "[nltk_data]    |     /Users/conorcuddihy/nltk_data...\n",
      "[nltk_data]    |   Package rte is already up-to-date!\n",
      "[nltk_data]    | Downloading package semcor to\n",
      "[nltk_data]    |     /Users/conorcuddihy/nltk_data...\n",
      "[nltk_data]    |   Package semcor is already up-to-date!\n",
      "[nltk_data]    | Downloading package senseval to\n",
      "[nltk_data]    |     /Users/conorcuddihy/nltk_data...\n",
      "[nltk_data]    |   Package senseval is already up-to-date!\n",
      "[nltk_data]    | Downloading package sentiwordnet to\n",
      "[nltk_data]    |     /Users/conorcuddihy/nltk_data...\n",
      "[nltk_data]    |   Package sentiwordnet is already up-to-date!\n",
      "[nltk_data]    | Downloading package sentence_polarity to\n",
      "[nltk_data]    |     /Users/conorcuddihy/nltk_data...\n",
      "[nltk_data]    |   Package sentence_polarity is already up-to-date!\n",
      "[nltk_data]    | Downloading package shakespeare to\n",
      "[nltk_data]    |     /Users/conorcuddihy/nltk_data...\n",
      "[nltk_data]    |   Package shakespeare is already up-to-date!\n",
      "[nltk_data]    | Downloading package sinica_treebank to\n",
      "[nltk_data]    |     /Users/conorcuddihy/nltk_data...\n",
      "[nltk_data]    |   Package sinica_treebank is already up-to-date!\n",
      "[nltk_data]    | Downloading package smultron to\n",
      "[nltk_data]    |     /Users/conorcuddihy/nltk_data...\n",
      "[nltk_data]    |   Package smultron is already up-to-date!\n",
      "[nltk_data]    | Downloading package state_union to\n",
      "[nltk_data]    |     /Users/conorcuddihy/nltk_data...\n",
      "[nltk_data]    |   Package state_union is already up-to-date!\n",
      "[nltk_data]    | Downloading package stopwords to\n",
      "[nltk_data]    |     /Users/conorcuddihy/nltk_data...\n",
      "[nltk_data]    |   Package stopwords is already up-to-date!\n",
      "[nltk_data]    | Downloading package subjectivity to\n",
      "[nltk_data]    |     /Users/conorcuddihy/nltk_data...\n",
      "[nltk_data]    |   Package subjectivity is already up-to-date!\n",
      "[nltk_data]    | Downloading package swadesh to\n",
      "[nltk_data]    |     /Users/conorcuddihy/nltk_data...\n",
      "[nltk_data]    |   Package swadesh is already up-to-date!\n",
      "[nltk_data]    | Downloading package switchboard to\n",
      "[nltk_data]    |     /Users/conorcuddihy/nltk_data...\n",
      "[nltk_data]    |   Package switchboard is already up-to-date!\n",
      "[nltk_data]    | Downloading package timit to\n",
      "[nltk_data]    |     /Users/conorcuddihy/nltk_data...\n"
     ]
    },
    {
     "name": "stderr",
     "output_type": "stream",
     "text": [
      "[nltk_data]    |   Package timit is already up-to-date!\n",
      "[nltk_data]    | Downloading package toolbox to\n",
      "[nltk_data]    |     /Users/conorcuddihy/nltk_data...\n",
      "[nltk_data]    |   Package toolbox is already up-to-date!\n",
      "[nltk_data]    | Downloading package treebank to\n",
      "[nltk_data]    |     /Users/conorcuddihy/nltk_data...\n",
      "[nltk_data]    |   Package treebank is already up-to-date!\n",
      "[nltk_data]    | Downloading package twitter_samples to\n",
      "[nltk_data]    |     /Users/conorcuddihy/nltk_data...\n",
      "[nltk_data]    |   Package twitter_samples is already up-to-date!\n",
      "[nltk_data]    | Downloading package udhr to\n",
      "[nltk_data]    |     /Users/conorcuddihy/nltk_data...\n",
      "[nltk_data]    |   Package udhr is already up-to-date!\n",
      "[nltk_data]    | Downloading package udhr2 to\n",
      "[nltk_data]    |     /Users/conorcuddihy/nltk_data...\n",
      "[nltk_data]    |   Package udhr2 is already up-to-date!\n",
      "[nltk_data]    | Downloading package unicode_samples to\n",
      "[nltk_data]    |     /Users/conorcuddihy/nltk_data...\n",
      "[nltk_data]    |   Package unicode_samples is already up-to-date!\n",
      "[nltk_data]    | Downloading package universal_treebanks_v20 to\n",
      "[nltk_data]    |     /Users/conorcuddihy/nltk_data...\n",
      "[nltk_data]    |   Package universal_treebanks_v20 is already up-to-\n",
      "[nltk_data]    |       date!\n",
      "[nltk_data]    | Downloading package verbnet to\n",
      "[nltk_data]    |     /Users/conorcuddihy/nltk_data...\n",
      "[nltk_data]    |   Package verbnet is already up-to-date!\n",
      "[nltk_data]    | Downloading package verbnet3 to\n",
      "[nltk_data]    |     /Users/conorcuddihy/nltk_data...\n",
      "[nltk_data]    |   Package verbnet3 is already up-to-date!\n",
      "[nltk_data]    | Downloading package webtext to\n",
      "[nltk_data]    |     /Users/conorcuddihy/nltk_data...\n",
      "[nltk_data]    |   Package webtext is already up-to-date!\n",
      "[nltk_data]    | Downloading package wordnet to\n",
      "[nltk_data]    |     /Users/conorcuddihy/nltk_data...\n",
      "[nltk_data]    |   Package wordnet is already up-to-date!\n",
      "[nltk_data]    | Downloading package wordnet_ic to\n",
      "[nltk_data]    |     /Users/conorcuddihy/nltk_data...\n",
      "[nltk_data]    |   Package wordnet_ic is already up-to-date!\n",
      "[nltk_data]    | Downloading package words to\n",
      "[nltk_data]    |     /Users/conorcuddihy/nltk_data...\n",
      "[nltk_data]    |   Package words is already up-to-date!\n",
      "[nltk_data]    | Downloading package ycoe to\n",
      "[nltk_data]    |     /Users/conorcuddihy/nltk_data...\n",
      "[nltk_data]    |   Package ycoe is already up-to-date!\n",
      "[nltk_data]    | Downloading package rslp to\n",
      "[nltk_data]    |     /Users/conorcuddihy/nltk_data...\n",
      "[nltk_data]    |   Package rslp is already up-to-date!\n",
      "[nltk_data]    | Downloading package maxent_treebank_pos_tagger to\n",
      "[nltk_data]    |     /Users/conorcuddihy/nltk_data...\n",
      "[nltk_data]    |   Package maxent_treebank_pos_tagger is already up-\n",
      "[nltk_data]    |       to-date!\n",
      "[nltk_data]    | Downloading package universal_tagset to\n",
      "[nltk_data]    |     /Users/conorcuddihy/nltk_data...\n",
      "[nltk_data]    |   Package universal_tagset is already up-to-date!\n",
      "[nltk_data]    | Downloading package maxent_ne_chunker to\n",
      "[nltk_data]    |     /Users/conorcuddihy/nltk_data...\n",
      "[nltk_data]    |   Package maxent_ne_chunker is already up-to-date!\n",
      "[nltk_data]    | Downloading package punkt to\n",
      "[nltk_data]    |     /Users/conorcuddihy/nltk_data...\n",
      "[nltk_data]    |   Package punkt is already up-to-date!\n",
      "[nltk_data]    | Downloading package book_grammars to\n",
      "[nltk_data]    |     /Users/conorcuddihy/nltk_data...\n",
      "[nltk_data]    |   Package book_grammars is already up-to-date!\n",
      "[nltk_data]    | Downloading package sample_grammars to\n",
      "[nltk_data]    |     /Users/conorcuddihy/nltk_data...\n",
      "[nltk_data]    |   Package sample_grammars is already up-to-date!\n",
      "[nltk_data]    | Downloading package spanish_grammars to\n",
      "[nltk_data]    |     /Users/conorcuddihy/nltk_data...\n",
      "[nltk_data]    |   Package spanish_grammars is already up-to-date!\n",
      "[nltk_data]    | Downloading package basque_grammars to\n",
      "[nltk_data]    |     /Users/conorcuddihy/nltk_data...\n",
      "[nltk_data]    |   Package basque_grammars is already up-to-date!\n",
      "[nltk_data]    | Downloading package large_grammars to\n",
      "[nltk_data]    |     /Users/conorcuddihy/nltk_data...\n",
      "[nltk_data]    |   Package large_grammars is already up-to-date!\n",
      "[nltk_data]    | Downloading package tagsets to\n",
      "[nltk_data]    |     /Users/conorcuddihy/nltk_data...\n",
      "[nltk_data]    |   Package tagsets is already up-to-date!\n",
      "[nltk_data]    | Downloading package snowball_data to\n",
      "[nltk_data]    |     /Users/conorcuddihy/nltk_data...\n",
      "[nltk_data]    |   Package snowball_data is already up-to-date!\n",
      "[nltk_data]    | Downloading package bllip_wsj_no_aux to\n",
      "[nltk_data]    |     /Users/conorcuddihy/nltk_data...\n",
      "[nltk_data]    |   Package bllip_wsj_no_aux is already up-to-date!\n",
      "[nltk_data]    | Downloading package word2vec_sample to\n",
      "[nltk_data]    |     /Users/conorcuddihy/nltk_data...\n",
      "[nltk_data]    |   Package word2vec_sample is already up-to-date!\n",
      "[nltk_data]    | Downloading package panlex_swadesh to\n",
      "[nltk_data]    |     /Users/conorcuddihy/nltk_data...\n",
      "[nltk_data]    |   Package panlex_swadesh is already up-to-date!\n",
      "[nltk_data]    | Downloading package mte_teip5 to\n",
      "[nltk_data]    |     /Users/conorcuddihy/nltk_data...\n",
      "[nltk_data]    |   Package mte_teip5 is already up-to-date!\n",
      "[nltk_data]    | Downloading package averaged_perceptron_tagger to\n",
      "[nltk_data]    |     /Users/conorcuddihy/nltk_data...\n",
      "[nltk_data]    |   Package averaged_perceptron_tagger is already up-\n",
      "[nltk_data]    |       to-date!\n",
      "[nltk_data]    | Downloading package averaged_perceptron_tagger_ru to\n",
      "[nltk_data]    |     /Users/conorcuddihy/nltk_data...\n",
      "[nltk_data]    |   Package averaged_perceptron_tagger_ru is already\n",
      "[nltk_data]    |       up-to-date!\n",
      "[nltk_data]    | Downloading package perluniprops to\n",
      "[nltk_data]    |     /Users/conorcuddihy/nltk_data...\n",
      "[nltk_data]    |   Package perluniprops is already up-to-date!\n",
      "[nltk_data]    | Downloading package nonbreaking_prefixes to\n",
      "[nltk_data]    |     /Users/conorcuddihy/nltk_data...\n",
      "[nltk_data]    |   Package nonbreaking_prefixes is already up-to-date!\n",
      "[nltk_data]    | Downloading package vader_lexicon to\n",
      "[nltk_data]    |     /Users/conorcuddihy/nltk_data...\n",
      "[nltk_data]    |   Package vader_lexicon is already up-to-date!\n",
      "[nltk_data]    | Downloading package porter_test to\n",
      "[nltk_data]    |     /Users/conorcuddihy/nltk_data...\n",
      "[nltk_data]    |   Package porter_test is already up-to-date!\n",
      "[nltk_data]    | Downloading package wmt15_eval to\n",
      "[nltk_data]    |     /Users/conorcuddihy/nltk_data...\n",
      "[nltk_data]    |   Package wmt15_eval is already up-to-date!\n",
      "[nltk_data]    | Downloading package mwa_ppdb to\n",
      "[nltk_data]    |     /Users/conorcuddihy/nltk_data...\n",
      "[nltk_data]    |   Package mwa_ppdb is already up-to-date!\n",
      "[nltk_data]    | \n",
      "[nltk_data]  Done downloading collection all\n"
     ]
    },
    {
     "data": {
      "text/plain": [
       "True"
      ]
     },
     "execution_count": 2,
     "metadata": {},
     "output_type": "execute_result"
    }
   ],
   "source": [
    "# setting the stage, as usual with colab ;)\n",
    "import nltk\n",
    "nltk.download('all')"
   ]
  },
  {
   "cell_type": "markdown",
   "metadata": {
    "id": "jzvGG2luvYPx"
   },
   "source": [
    "## 1. Preprocessing ##\n",
    "\n",
    "To processes a document we will follow  5 main steps: \n",
    "\n",
    "- Sentence segmentation.\n",
    "- Tokenization. \n",
    "- Tag words with their part-of-speech tags. \n",
    "- Identify interesting chunks and entities. \n",
    "- Identify relations between different entities in the text.\n",
    "\n",
    "The first 3 steps perform linguistic preprocessing of a given text in order to perform higher level processing.\n",
    "\n",
    "\n",
    "This lab is partially based on the Information Extraction chapter of the [NLTK book](http://www.nltk.org/book/).\n"
   ]
  },
  {
   "cell_type": "code",
   "execution_count": 3,
   "metadata": {
    "colab": {
     "base_uri": "https://localhost:8080/"
    },
    "id": "KQ4DM3CuvYPy",
    "outputId": "59d60773-2db8-404d-8ac1-a7dedbe0561d"
   },
   "outputs": [
    {
     "data": {
      "text/plain": [
       "[('The', 'DT'),\n",
       " ('fourth', 'JJ'),\n",
       " ('Wells', 'NNP'),\n",
       " ('account', 'NN'),\n",
       " ('moving', 'VBG'),\n",
       " ('to', 'TO'),\n",
       " ('another', 'DT'),\n",
       " ('agency', 'NN'),\n",
       " ('is', 'VBZ'),\n",
       " ('the', 'DT'),\n",
       " ('packaged', 'VBN'),\n",
       " ('paper-products', 'NNS'),\n",
       " ('division', 'NN'),\n",
       " ('of', 'IN'),\n",
       " ('Georgia-Pacific', 'NNP'),\n",
       " ('Corp.', 'NNP'),\n",
       " (',', ','),\n",
       " ('which', 'WDT'),\n",
       " ('arrived', 'VBD'),\n",
       " ('at', 'IN'),\n",
       " ('Wells', 'NNP'),\n",
       " ('only', 'RB'),\n",
       " ('last', 'JJ'),\n",
       " ('fall', 'NN'),\n",
       " ('.', '.')]"
      ]
     },
     "execution_count": 3,
     "metadata": {},
     "output_type": "execute_result"
    }
   ],
   "source": [
    "document = 'The fourth Wells account moving to another agency is the packaged paper-products division of \\\n",
    "Georgia-Pacific Corp., which arrived at Wells only last fall. Like Hertz and the History Channel, \\\n",
    "it is also leaving for an Omnicom-owned agency, the BBDO South unit of BBDO Worldwide. BBDO South in Atlanta, \\\n",
    "which handles corporate advertising for Georgia-Pacific, will assume additional duties for brands like Angel\\\n",
    "Soft toilet tissue and Sparkle paper towels, said Ken Haldin, a spokesman for Georgia-Pacific in Atlanta.'\n",
    "\n",
    "\n",
    "## Preprocessing\n",
    "\n",
    "# Step 1: Sentence segmentation.\n",
    "sentences = nltk.sent_tokenize(document)\n",
    "\n",
    "# Step 2: Tokenize sentences into words.\n",
    "tokenized_sentences = [nltk.word_tokenize(sent) for sent in sentences]\n",
    "\n",
    "# Step 3: POS tagging.\n",
    "tagged_sentences = [nltk.pos_tag(sent) for sent in tokenized_sentences]\n",
    "\n",
    "\n",
    "# print the first sentence\n",
    "tagged_sentences[0]"
   ]
  },
  {
   "cell_type": "markdown",
   "metadata": {
    "id": "FztiPPt-vYP5"
   },
   "source": [
    "## 2. Named Entity Recognition ##\n",
    "\n",
    "Named entities are definite noun phrases that refer to specific types of individuals, such as organizations, persons, dates, and so on. \n",
    "\n",
    "NLTK provides a classifier that has already been trained to recognize named entities, accessed with the function `nltk.ne_chunk()`. \n",
    "If we set the parameter `binary=True`, then named entities are just tagged as NE; otherwise, the classifier adds category labels such as PERSON, ORGANIZATION, and GPE. "
   ]
  },
  {
   "cell_type": "code",
   "execution_count": 4,
   "metadata": {
    "colab": {
     "base_uri": "https://localhost:8080/"
    },
    "id": "0I9Ox7hdvYP7",
    "outputId": "c22ab86d-6ed6-4965-baf8-07c7ad5daf71"
   },
   "outputs": [
    {
     "name": "stdout",
     "output_type": "stream",
     "text": [
      "(S\n",
      "  I/PRP\n",
      "  will/MD\n",
      "  meet/VB\n",
      "  (NE John/NNP Smith/NNP)\n",
      "  to/TO\n",
      "  visit/VB\n",
      "  (NE Oracle/NNP)\n",
      "  headquarters/NNS\n",
      "  ./.)\n"
     ]
    }
   ],
   "source": [
    "sentence = \"I will meet John Smith to visit Oracle headquarters.\"\n",
    "\n",
    "tokens = nltk.word_tokenize(sentence)   # tokenization\n",
    "pos_tags = nltk.pos_tag(tokens)         # pos-tagging\n",
    "\n",
    "# named entity chunking\n",
    "print(nltk.ne_chunk(pos_tags, binary=True))"
   ]
  },
  {
   "cell_type": "code",
   "execution_count": 5,
   "metadata": {
    "colab": {
     "base_uri": "https://localhost:8080/"
    },
    "id": "9jm8VZ3tMNWb",
    "outputId": "84a8950d-7b1e-49cf-e7e4-64c50253505d"
   },
   "outputs": [
    {
     "name": "stdout",
     "output_type": "stream",
     "text": [
      "['John Smith', 'Oracle']\n"
     ]
    }
   ],
   "source": [
    "tree = nltk.ne_chunk(pos_tags, binary=True)\n",
    "# find named entities\n",
    "named_entities = []\n",
    "\n",
    "for subtree in tree.subtrees():\n",
    "  if subtree.label() == 'NE':\n",
    "    entity = \"\"\n",
    "    for leaf in subtree.leaves():\n",
    "      entity = entity + leaf[0] + \" \"\n",
    "    named_entities.append(entity.strip())\n",
    "             \n",
    "print(named_entities)"
   ]
  },
  {
   "cell_type": "markdown",
   "metadata": {
    "id": "B_hM50x4vYQE"
   },
   "source": [
    "### Exercise 1 ###\n",
    "\n",
    "Extract all the named entities from the first 20 sentences of the of the Brown Corpus that are in the category '<i>news</i>'."
   ]
  },
  {
   "cell_type": "code",
   "execution_count": 6,
   "metadata": {
    "colab": {
     "base_uri": "https://localhost:8080/"
    },
    "id": "xqzx423OvYQG",
    "outputId": "5f53c731-fe27-44cd-ac69-417739dd685c",
    "scrolled": true
   },
   "outputs": [
    {
     "name": "stdout",
     "output_type": "stream",
     "text": [
      "['Fulton County Grand Jury']\n",
      "['City Executive Committee', 'Atlanta']\n",
      "['Fulton Superior Court']\n",
      "[]\n",
      "[]\n",
      "['Fulton']\n",
      "['Atlanta', 'Fulton County']\n",
      "['Merger']\n",
      "[]\n",
      "['City Purchasing Department']\n",
      "[]\n",
      "[]\n",
      "[]\n",
      "[]\n",
      "['Fulton County', 'Fulton County']\n",
      "[]\n",
      "['Fulton County']\n",
      "['Fulton']\n",
      "['Fulton']\n",
      "[]\n"
     ]
    }
   ],
   "source": [
    "# your code goes here\n",
    "\n",
    "def extract_entity_names(tree):\n",
    "  named_entities = []\n",
    "  for subtree in tree.subtrees():\n",
    "    if subtree.label() == 'NE':\n",
    "      entity = \"\"\n",
    "      for leaf in subtree.leaves():\n",
    "        entity = entity + leaf[0] + \" \"\n",
    "      named_entities.append(entity.strip())\n",
    "  return named_entities\n",
    "\n",
    "sentences = nltk.corpus.brown.sents(categories=['news'])[:20]\n",
    "\n",
    "tagged_sentences = nltk.pos_tag_sents(sentences)\n",
    "chunks = nltk.ne_chunk_sents(tagged_sentences, binary=True)\n",
    "\n",
    "for chunk in chunks:\n",
    "  print(extract_entity_names(chunk))"
   ]
  },
  {
   "cell_type": "markdown",
   "metadata": {
    "id": "eHyERj2JvYQL"
   },
   "source": [
    "## 3. Relation Extraction ##\n",
    "We now want to extract the relations that exist between the specific types of named entities. One way of approaching this task is to use regular expressions to look for all triples of the form (X, α, Y), where X and Y are named entities of the required types, and α is the string of words that intervenes between X and Y.  "
   ]
  },
  {
   "cell_type": "code",
   "execution_count": 7,
   "metadata": {
    "colab": {
     "base_uri": "https://localhost:8080/"
    },
    "id": "YTOKSyHtvYQN",
    "outputId": "499cf0a0-3f6e-4241-a611-c6c7402d3e71"
   },
   "outputs": [
    {
     "name": "stdout",
     "output_type": "stream",
     "text": [
      "[ORG: 'WHYY'] 'in' [LOC: 'Philadelphia']\n",
      "IN('whyy', 'philadelphia')\n",
      "[ORG: 'McGlashan &AMP; Sarrail'] 'firm in' [LOC: 'San Mateo']\n",
      "IN('mcglashan_&_sarrail', 'san_mateo')\n",
      "[ORG: 'Freedom Forum'] 'in' [LOC: 'Arlington']\n",
      "IN('freedom_forum', 'arlington')\n",
      "[ORG: 'Brookings Institution'] ', the research group in' [LOC: 'Washington']\n",
      "IN('brookings_institution', 'washington')\n",
      "[ORG: 'Idealab'] ', a self-described business incubator based in' [LOC: 'Los Angeles']\n",
      "IN('idealab', 'los_angeles')\n",
      "[ORG: 'Open Text'] ', based in' [LOC: 'Waterloo']\n",
      "IN('open_text', 'waterloo')\n",
      "[ORG: 'WGBH'] 'in' [LOC: 'Boston']\n",
      "IN('wgbh', 'boston')\n",
      "[ORG: 'Bastille Opera'] 'in' [LOC: 'Paris']\n",
      "IN('bastille_opera', 'paris')\n",
      "[ORG: 'Omnicom'] 'in' [LOC: 'New York']\n",
      "IN('omnicom', 'new_york')\n",
      "[ORG: 'DDB Needham'] 'in' [LOC: 'New York']\n",
      "IN('ddb_needham', 'new_york')\n",
      "[ORG: 'Kaplan Thaler Group'] 'in' [LOC: 'New York']\n",
      "IN('kaplan_thaler_group', 'new_york')\n",
      "[ORG: 'BBDO South'] 'in' [LOC: 'Atlanta']\n",
      "IN('bbdo_south', 'atlanta')\n",
      "[ORG: 'Georgia-Pacific'] 'in' [LOC: 'Atlanta']\n",
      "IN('georgia-pacific', 'atlanta')\n"
     ]
    }
   ],
   "source": [
    "import re, nltk\n",
    "\n",
    "# Search for strings that contain the word \"in\".\n",
    "\n",
    "# \\b matches the empty string, but only at the beginning or end of a word. (b = boundary)\n",
    "'''Negative lookahead assertion(?<= ...). Matches if ... doesnt match next. \n",
    "To disregard the strings such as success in supervising, where in is followed by a gerund.'''\n",
    "\n",
    "IN = re.compile(r'.*\\bin\\b(?!\\b.+ing\\b)')\n",
    "\n",
    "# Using the documents from the IEEE Corpus - New York Times, 15 March 1998.\n",
    "# (see details here: http://www.nltk.org/_modules/nltk/corpus/reader/ieer.html)\n",
    "docs = nltk.corpus.ieer.parsed_docs('NYT_19980315')\n",
    "\n",
    "for doc in docs:\n",
    "  for rel in nltk.sem.relextract.extract_rels('ORG', 'LOC', doc, corpus='ieer', pattern=IN):\n",
    "    print(nltk.sem.relextract.rtuple(rel))\n",
    "    print(nltk.sem.clause(rel, relsym = \"IN\"))"
   ]
  },
  {
   "cell_type": "markdown",
   "metadata": {
    "id": "8YMKuuyOvYQT"
   },
   "source": [
    "### Exercise 2 ###\n",
    "\n",
    "Extract places of birth of people from the the ieeer corpus, using the 'X born in Y' pattern, where X is a person and Y is a location."
   ]
  },
  {
   "cell_type": "code",
   "execution_count": 8,
   "metadata": {
    "colab": {
     "base_uri": "https://localhost:8080/"
    },
    "id": "Kl9ivjcSvYQU",
    "outputId": "970a6c3f-367c-42ec-b56c-f8effa9ba267"
   },
   "outputs": [
    {
     "name": "stdout",
     "output_type": "stream",
     "text": [
      "[PER: 'McCarthy'] 'was born in' [LOC: 'Belle Plaine']\n",
      "Birthplace('mccarthy', 'belle_plaine')\n"
     ]
    }
   ],
   "source": [
    "# your code goes here\n",
    "# example of the output \n",
    "# [PER: 'McCarthy'] 'was born in' [LOC: 'Belle Plaine']\n",
    "# Birthplace('mccarthy', 'belle_plaine')\n",
    "\n",
    "from nltk.corpus import ieer\n",
    "\n",
    "BORN_IN = re.compile(r'.*\\bborn in\\b')\n",
    "\n",
    "for fileId in ieer.fileids():\n",
    "  for doc in nltk.corpus.ieer.parsed_docs(fileId):\n",
    "    for rel in nltk.sem.relextract.extract_rels('PER', 'LOC', doc, corpus='ieer', pattern=BORN_IN):\n",
    "      print(nltk.sem.relextract.rtuple(rel))\n",
    "      print (nltk.sem.clause(rel, relsym = \"Birthplace\"))"
   ]
  },
  {
   "cell_type": "code",
   "execution_count": 9,
   "metadata": {
    "colab": {
     "base_uri": "https://localhost:8080/"
    },
    "id": "i5p9fUXpx5z3",
    "outputId": "4c4c06cd-60ad-4106-f87d-973f85ff07ac"
   },
   "outputs": [
    {
     "name": "stdout",
     "output_type": "stream",
     "text": [
      "['Barack Hussein Obama II (born August 4, 1961) is an American politician and attorney.']\n",
      "['Obama was born in Honolulu, Hawaii.']\n",
      "[]\n"
     ]
    }
   ],
   "source": [
    "# Another example\n",
    "sentences = [\"Barack Hussein Obama II (born August 4, 1961) is an American politician and attorney.\",\n",
    "             \"Obama was born in Honolulu, Hawaii.\",\n",
    "             \"After graduating from Columbia University in 1983, he worked as a community organizer in Chicago.\"]\n",
    "\n",
    "BORN_IN = re.compile(r'.*\\bborn\\b .*')\n",
    "\n",
    "for sent in sentences:\n",
    "  print(re.findall(BORN_IN, sent))"
   ]
  },
  {
   "cell_type": "markdown",
   "metadata": {
    "id": "t6FnbakKvYQZ"
   },
   "source": [
    "### Exercise 3 ###\n",
    "\n",
    "Extract people and their role in an organisation by using the 'X ROLE at the Y' or 'X ROLE of the Y' patterns, where X is a person and Y is an organisation. "
   ]
  },
  {
   "cell_type": "code",
   "execution_count": 10,
   "metadata": {
    "colab": {
     "base_uri": "https://localhost:8080/"
    },
    "id": "9uf32hF4vYQa",
    "outputId": "20d617c1-7de6-4209-aa67-091247b4890e",
    "scrolled": true
   },
   "outputs": [
    {
     "name": "stdout",
     "output_type": "stream",
     "text": [
      "ROLES('kivutha_kibwana', 'national_convention_assembly')\n",
      "ROLES('boban_boskovic', 'plastika')\n",
      "ROLES('robert_mergess', 'berkeley_center_for_law_and_technology')\n",
      "ROLES('jack_balkin', 'yale')\n",
      "ROLES('david_post', 'cyberspace_law_institute')\n",
      "ROLES('william_gale', 'brookings_institution')\n",
      "ROLES('joel_slemrod', 'university_of_michigan')\n",
      "ROLES('kaufman', 'tv_books_llc')\n",
      "ROLES('sherry_lansing', 'paramount_motion_picture_group')\n",
      "ROLES('rick_yorn', 'addis-wechsler_&_associates')\n",
      "ROLES('ken_kaess', 'ddb_needham')\n",
      "ROLES('norio_ohga', 'sony_corporation')\n",
      "ROLES('raymond_rosen', 'robert_wood_johnson_medical_school')\n",
      "ROLES('pepper_schwartz', 'university_of_washington')\n",
      "ROLES('irwin_goldstein', 'boston_university_school_of_medicine')\n",
      "ROLES('jennifer_berman', 'university_of_maryland')\n",
      "ROLES('anthony_chan', 'banc_one_investment_advisors_corp')\n",
      "ROLES('kevin_ashby', 'the_sun_advocate')\n",
      "ROLES('paul_volcker', 'us_federal_reserve')\n",
      "ROLES('israel_singer', 'world_jewish_congress')\n",
      "ROLES('katherine_abraham', 'bureau_of_labor_statistics')\n",
      "ROLES('lloyd_kiva_new', 'institute_of_american_indian_art')\n",
      "ROLES('barry_travis', 'little_rock_convention_and_visitors_bureau')\n",
      "ROLES('linda_ward', 'legacy_hotel')\n",
      "ROLES('j_jackson_walter', 'national_trust_for_historic_preservation')\n",
      "ROLES('dan_morgenstern', 'institute_of_jazz_studies')\n",
      "ROLES('peter_cannell', 'smithsonian_institution_press')\n",
      "ROLES('trimble', 'ulster_unionist_party')\n",
      "ROLES('seamus_mallon', 'social_democrats')\n",
      "ROLES('yegor_stroyev', 'upper_house')\n"
     ]
    }
   ],
   "source": [
    "# your code goes here\n",
    "from nltk.corpus import ieer\n",
    "\n",
    "ROLES = re.compile(',.*(\\sat\\sthe?|\\sof\\sthe?)')\n",
    "\n",
    "for file in ieer.fileids():\n",
    "  for doc in nltk.corpus.ieer.parsed_docs(file):\n",
    "    for r in nltk.sem.relextract.extract_rels('PER', 'ORG', doc, corpus='ieer', pattern=ROLES):\n",
    "      print (nltk.sem.relextract.clause(r, relsym=\"ROLES\"))"
   ]
  },
  {
   "cell_type": "markdown",
   "metadata": {
    "id": "LLQ5IZkUUSIB"
   },
   "source": [
    "\n",
    "## 4. Inter-Annotator agreement ##\n",
    "\n",
    "As discussed in the lecture, Inter-Annotator Agreement (IAA) between two annotators can be calculated using Cohen's Kappa $(\\kappa)$ as follows:\n",
    "\n",
    "$$\\kappa = \\frac{P_o - P_e}{1-P_e}$$\n",
    "\n",
    "where $P_o$ is observed agreement and $P_e$ is expected agreement."
   ]
  },
  {
   "cell_type": "markdown",
   "metadata": {
    "id": "3FNvdqRhvYQf"
   },
   "source": [
    "### Exercise 4.1 ###\n",
    "\n",
    "For the given document:\n",
    "\n",
    "1. Annotate the given document with named entities using the IOB tagging scheme (annotate all of the named entities: PERson, LOCation, ORGanisation, TIME).\n",
    "2. Calculate the Inter-Annotator Agreement with one other student.\n",
    "3. Interpret the obtained value according to Landis and Koch scale.\n",
    "\n",
    "\n",
    "**Document 1**: *The fourth Wells account moving to another agency is the packaged paper-products division of \n",
    "Georgia-Pacific Corp., which arrived at Wells only last fall. Like Hertz and the History Channel, \n",
    "it is also leaving for an Omnicom-owned agency, the BBDO South unit of BBDO Worldwide. BBDO South in Atlanta, \n",
    "which handles corporate advertising for Georgia-Pacific, will assume additional duties for brands like Angel\n",
    "Soft toilet tissue and Sparkle paper towels, said Ken Haldin, a spokesman for Georgia-Pacific in Atlanta.*\n"
   ]
  },
  {
   "cell_type": "markdown",
   "metadata": {
    "id": "_TZFfiHu1Xjx"
   },
   "source": [
    "Annotator 1:\n",
    "\n",
    "**O**: The **O**: fourth **O**: Wells **O**: account **O**: moving **O**: to **O**: another **O**: agency **O**: is **O**: the **O**: packaged **O**: paper-products **O**: division **O**: of **B_ORG**: Georgia-Pacific **I_ORG**: Corp. **O**: , **O**: which **O**: arrived **O**: at **O**: Wells **O**: only **O**: last **TIME**: fall **O**: . **O**: Like **O**: Hertz **O**: and **O**: the **O**: History **O**: Channel **O**: , **O**: it **O**: is **O**: also **O**: leaving **O**: for **O**: an **B_ORG**: Omnicom-owned **O**: agency **O**: , **O**: the **B_ORG**: BBDO **I_ORG**: South **O**: unit **O**: of **B_ORG**: BBDO **I_ORG**: Worldwide **O**: . **B_ORG**: BBDO **I_ORG**: South **O**: in **B_LOC**: Atlanta **O**: , **O**: which **O**: handles **O**: corporate **O**: advertising **O**: for **B_ORG**: Georgia-Pacific **O**: , **O**: will **O**: assume **O**: additional **O**: duties **O**: for **O**: brands **O**: like **B_ORG**: Angel **I_ORG**: Soft **O**: toilet **O**: tissue **O**: and **B_ORG**: Sparkle **O**: paper **O**: towels **O**: , **O**: said **B-PER**: Ken **I-PER**: Haldin **O**: , **O**: a **O**: spokesman **O**: for **B_ORG**: Georgia-Pacific **O**: in **B_LOC**: Atlanta **O**: .\n"
   ]
  },
  {
   "cell_type": "markdown",
   "metadata": {
    "id": "UmAJ8atx9h6r"
   },
   "source": [
    "Annotator 2:\n",
    "\n",
    "**O**: The **O**: fourth **B_ORG**: Wells **O**: account **O**: moving **O**: to **O**: another **O**: agency **O**: is **O**: the **O**: packaged **O**: paper-products **O**: division **O**: of **B_ORG**: Georgia-Pacific **I_ORG**: Corp. **O**: , **O**: which **O**: arrived **O**: at **B_ORG**: Wells **O**: only **O**: last **O**: fall **O**: . **O**: Like **B_ORG**: Hertz **O**: and **O**: the **B_ORG**: History **I_ORG**: Channel **O**: , **O**: it **O**: is **O**: also **O**: leaving **O**: for **O**: an **B_ORG**: Omnicom-owned **O**: agency **O**: , **O**: the **B_ORG**: BBDO **I_ORG**: South **I_ORG**: unit **O**: of **B_ORG**: BBDO **I_ORG**: Worldwide **O**: . **B_ORG**: BBDO **I_ORG**: South **O**: in **B_LOC**: Atlanta **O**: , **O**: which **O**: handles **O**: corporate **O**: advertising **O**: for **B_ORG**: Georgia-Pacific **O**: , **O**: will **O**: assume **O**: additional **O**: duties **O**: for **O**: brands **O**: like **B_ORG**: Angel **I_ORG**: Soft **O**: toilet **O**: tissue **O**: and **B_ORG**: Sparkle **O**: paper **O**: towels **O**: , **O**: said **B_PER**: Ken **I_PER**: Haldin **O**: , **O**: a **O**: spokesman **O**: for **B_ORG**: Georgia-Pacific **O**: in **B_LOC**: Atlanta **O**: ."
   ]
  },
  {
   "cell_type": "code",
   "execution_count": 11,
   "metadata": {
    "id": "mXEZlYMx2bws"
   },
   "outputs": [],
   "source": [
    "sentence = \"The fourth Wells account moving to another agency is the packaged paper-products division of \\\n",
    "Georgia-Pacific Corp., which arrived at Wells only last fall. Like Hertz and the History Channel, \\\n",
    "it is also leaving for an Omnicom-owned agency, the BBDO South unit of BBDO Worldwide. BBDO South in Atlanta, \\\n",
    "which handles corporate advertising for Georgia-Pacific, will assume additional duties for brands like Angel \\\n",
    "Soft toilet tissue and Sparkle paper towels, said Ken Haldin, a spokesman for Georgia-Pacific in Atlanta.\"\n",
    "\n",
    "tokens = nltk.word_tokenize(sentence)"
   ]
  },
  {
   "cell_type": "code",
   "execution_count": 12,
   "metadata": {
    "colab": {
     "base_uri": "https://localhost:8080/"
    },
    "id": "wg3fwI2H53nI",
    "outputId": "9267452d-4420-4992-ba5d-f51219858476"
   },
   "outputs": [
    {
     "name": "stdout",
     "output_type": "stream",
     "text": [
      "  % Total    % Received % Xferd  Average Speed   Time    Time     Time  Current\n",
      "                                 Dload  Upload   Total   Spent    Left  Speed\n",
      "100   863    0   863    0     0   1335      0 --:--:-- --:--:-- --:--:--  1335\n",
      "  % Total    % Received % Xferd  Average Speed   Time    Time     Time  Current\n",
      "                                 Dload  Upload   Total   Spent    Left  Speed\n",
      "100   884    0   884    0     0   1529      0 --:--:-- --:--:-- --:--:--  1529\n"
     ]
    }
   ],
   "source": [
    "# Download annotations.\n",
    "!curl https://pastebin.com/raw/Ka19SRJp > annotation-1.tsv   # Omnia's annotation\n",
    "!curl https://pastebin.com/raw/yZ5Ker55 > annotation-2.tsv   # Nivranshu's annotation"
   ]
  },
  {
   "cell_type": "code",
   "execution_count": 13,
   "metadata": {
    "id": "GTrcYSU13s7s"
   },
   "outputs": [],
   "source": [
    "# Load annotations.\n",
    "with open('annotation-1.tsv') as f:\n",
    "  annotation_1 = [line.strip().split('\\t')[-1] for line in f.readlines()]\n",
    "with open('annotation-2.tsv') as f:\n",
    "  annotation_2 = [line.strip().split('\\t')[-1] for line in f.readlines()]"
   ]
  },
  {
   "cell_type": "code",
   "execution_count": 14,
   "metadata": {
    "colab": {
     "base_uri": "https://localhost:8080/"
    },
    "id": "yIQpXP-z8VgH",
    "outputId": "2b0a39a5-53c7-4f1c-c896-31b5a05e0f1e"
   },
   "outputs": [
    {
     "data": {
      "text/plain": [
       "0.7503152585119799"
      ]
     },
     "execution_count": 14,
     "metadata": {},
     "output_type": "execute_result"
    }
   ],
   "source": [
    "# Calculate Cohen's Kappa.\n",
    "\n",
    "# Using sklearn's implementation. See details on the link below.\n",
    "# (https://scikit-learn.org/stable/modules/generated/sklearn.metrics.cohen_kappa_score.html)\n",
    "\n",
    "from sklearn.metrics import cohen_kappa_score\n",
    "\n",
    "cohen_kappa_score(annotation_1, annotation_2)"
   ]
  },
  {
   "cell_type": "code",
   "execution_count": 15,
   "metadata": {
    "colab": {
     "base_uri": "https://localhost:8080/"
    },
    "id": "VV3QfW316eY8",
    "outputId": "88f5e7d9-bf85-4b83-f0b5-26d2b60d1262"
   },
   "outputs": [
    {
     "data": {
      "text/plain": [
       "0.7503152585119798"
      ]
     },
     "execution_count": 15,
     "metadata": {},
     "output_type": "execute_result"
    }
   ],
   "source": [
    "# nltk also has a function to calculate Cohen's Kappa but it requires \n",
    "# the annotations to be structured as a list containing (coder, item, label).\n",
    "# More information here: https://www.nltk.org/_modules/nltk/metrics/agreement.html\n",
    "\n",
    "from nltk.metrics.agreement import AnnotationTask\n",
    "\n",
    "# create a single list of annotations in the format (coder, item, label).\n",
    "annotations = [(1, idx, label) for (idx, label) in enumerate(annotation_1)] + \\\n",
    "              [(2, idx, label) for (idx, label) in enumerate(annotation_2)]\n",
    "\n",
    "task = AnnotationTask(data=annotations)\n",
    "task.kappa()"
   ]
  },
  {
   "cell_type": "markdown",
   "metadata": {
    "id": "s6wdBXIFSai9"
   },
   "source": [
    "### Exercise 4.2\n",
    "\n",
    "As discussed in the lecture, to improve the obtained Kappa value we can:\n",
    "- adjust annotation guidelines for re-annotation\n",
    "- discuss disagreements between annotators\n",
    "\n",
    "\n",
    "In this exercise, design a set of annotation guidelines with other student(s) and annotate the document below as per those guidelines. Also, calculate IAA after annotation.\n",
    "\n",
    "**Document 2**: *The maker of farm equipment said the three-year labor agreement with the International Association of Machinists and Aerospace Workers at John Deere Horicon Works, Deere's primary facility for producing lawn and grounds-care equipment, takes effect immediately and extends through Oct. 1 , 1992.*"
   ]
  },
  {
   "cell_type": "code",
   "execution_count": 16,
   "metadata": {
    "id": "BM-Vmqzv1egj"
   },
   "outputs": [],
   "source": [
    "# Left for the students"
   ]
  },
  {
   "cell_type": "markdown",
   "metadata": {
    "id": "tOBXzAbFqA8K"
   },
   "source": [
    "---\n",
    "#### Resources for Regular Expressions:\n",
    "\n",
    "1. [RegexOne - Learn Regular Expressions - Lesson 1: An Introduction, and the ABCs](https://regexone.com/)\n",
    "1. [Online regex tester and debugger: PHP, PCRE, Python, Golang and JavaScript](https://regex101.com/)\n",
    "1. [re — Regular expression operations — Python 3.9.0 documentation](https://docs.python.org/3/library/re.html)"
   ]
  },
  {
   "cell_type": "code",
   "execution_count": null,
   "metadata": {},
   "outputs": [],
   "source": []
  }
 ],
 "metadata": {
  "colab": {
   "collapsed_sections": [],
   "name": "Exercise Sheet 8 - Information Extraction - Solution.ipynb",
   "provenance": []
  },
  "kernelspec": {
   "display_name": "Python 3",
   "language": "python",
   "name": "python3"
  },
  "language_info": {
   "codemirror_mode": {
    "name": "ipython",
    "version": 3
   },
   "file_extension": ".py",
   "mimetype": "text/x-python",
   "name": "python",
   "nbconvert_exporter": "python",
   "pygments_lexer": "ipython3",
   "version": "3.8.3"
  }
 },
 "nbformat": 4,
 "nbformat_minor": 1
}
